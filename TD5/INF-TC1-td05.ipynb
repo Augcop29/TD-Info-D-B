{
 "cells": [
  {
   "cell_type": "markdown",
   "id": "052d9fc3",
   "metadata": {},
   "source": [
    "NAME:"
   ]
  },
  {
   "cell_type": "code",
   "execution_count": null,
   "id": "df04221c",
   "metadata": {
    "vscode": {
     "languageId": "plaintext"
    }
   },
   "outputs": [],
   "source": []
  },
  {
   "cell_type": "markdown",
   "id": "b97bad7e-82ff-44a7-9779-13c139085623",
   "metadata": {},
   "source": [
    "# INF TC1 - TD5 (2h) - Devoir à rendre #1"
   ]
  },
  {
   "cell_type": "markdown",
   "id": "1bb26026-8560-4a3c-90e6-2cfd7a49320a",
   "metadata": {},
   "source": [
    "---"
   ]
  },
  {
   "cell_type": "markdown",
   "id": "dd8d4905-55f9-4957-8008-a963cc6de061",
   "metadata": {},
   "source": [
    "Vous serez évalué sur le rendu de ce TD qui sera à déposer sur Moodle **deux (2) semaines** après les séances d'autonomie et de TD. Le rendu sera à réaliser sous forme de **notebook** qui contient votre code et images."
   ]
  },
  {
   "cell_type": "markdown",
   "id": "99ee8fad-7f32-4fe2-85d3-3b8da49f317f",
   "metadata": {},
   "source": [
    "<details style=\"border: 1px\">\n",
    "<summary> MODALITES DE RENDU</summary>\n",
    "\n",
    "### Comment rendre son devoir ?\n",
    "\n",
    "Vous serez évalué sur le rendu de ce TD qui sera à déposer sur Moodle **deux (2) semaines** après les séances d'autonomie et de TD. Vous devrez créer une archive (zip, rar, etc.) nomée `nom1-nom2-inf-tc1-td5.zip` qui contiendra tous les éléments de votre rendu (rapport en notebook, code, images de test). Vous pouvez rendre ce rapport seul ou en binôme. Le rendu du TD doit contenir a minima :\n",
    "\n",
    "1. Toutes les étapes jusqu'à la 6ème doivent avoir été abordées\n",
    "2. Justifications, illustrations et tests sur plusieurs images\n",
    "\n",
    "**A garder en tête :**\n",
    "\n",
    "- Un code fonctionnel et les tests appropriés devront être fournis dans l'archive qui doit être autonome (le correcteur ne doit pas avoir à rajouter d'image ou de fichier supplémentaire)\n",
    "\n",
    "- Vous fournirez les images de test et leurs résultats; évitez cependant de prendre des tailles d'images trop importantes.\n",
    "\n",
    "- Le rapport **devra être au format Notebook Jupyter** et comprendre :\n",
    "\n",
    "  - Le détail des étapes que vous avez suivies\n",
    "\n",
    "  - La description de parties de code difficiles\n",
    "\n",
    "  - Tout souci ou point bloquant dans votre code\n",
    "\n",
    "  - Les graphiques et diagrammes nécessaires\n",
    "\n",
    "  - Des analyses et discussions en lien avec votre approche\n",
    "\n",
    "  - Des exemples simples mais aussi difficiles\n",
    "\n",
    "**Tout travail supplémentaire (méthode originale, optimisation poussée) fera l'objet de points en bonus.**\n",
    "\n",
    "    \n",
    "    \n",
    "*Voici une suggestion afin de se faire un ordre d'idée*\n",
    "\n",
    "En dessous de 10 :\n",
    "\n",
    "- Les étapes suivies\n",
    "- Un code fonctionnel et les méthodes basiques\n",
    "- Un rapport de quelques pages\n",
    "- Un code certes fonctionnel mais peu commenté\n",
    "- Les exemples d'images fournies\n",
    "\n",
    "Un groupe avec une note entre 10 et 12 :\n",
    "\n",
    "- Les étapes suivies\n",
    "- Un code fonctionnel et les méthodes basiques\n",
    "- Un rapport de quelques pages\n",
    "- Un code certes fonctionnel mais peu commenté\n",
    "- Les exemples d'images fournies\n",
    "\n",
    "Un groupe entre 12 et 14 a en plus proposé :\n",
    "\n",
    "- Des structures de données avancées (Set, Files, etc)\n",
    "- Une justification de chaque étape\n",
    "- Une méthode un petit peu plus poussée\n",
    "\n",
    "Un groupe entre 14 et 16 a en plus proposé :\n",
    "\n",
    "- Une méthode originale (K-Means, etc)\n",
    "- Une démarche expérimentale très détaillée sur les optimisations\n",
    "- Des tests plutôt originaux\n",
    "\n",
    "Un groupe au-dessus de 16 comporte une ou plusieurs parties exceptionnelles :\n",
    "\n",
    "- Rapport très détaillé et exemplaire sur le fond comme sur la forme\n",
    "- Une démarche expérimentale très détaillée sur les optimisations\n",
    "- Code et tests\n",
    "\n",
    "\n",
    "\n",
    "</details>"
   ]
  },
  {
   "cell_type": "markdown",
   "id": "d48155b2-8db8-4557-a66b-363351712560",
   "metadata": {},
   "source": [
    "## Objectif du devoir\n",
    "\n",
    "Le but de ce devoir est de **déterminer automatiquement une palette de couleurs optimale** pour une image donnée. Cette palette devra valider les contraintes suivantes : \n",
    "\n",
    "1. de taille réduite par rapport au nombre initial de couleurs\n",
    "2. la plus représentative possible des couleurs initiales. \n",
    "\n",
    "En effet une image affichée sur un ordinateur peut être encodée sur 8 bits par composantes rouge, verte et bleue (soit 256 valeurs possibles par composante) ainsi potentiellement utiliser $256 \\times 256 \\times 256 = 16 777 216$ couleurs. En réalité, beaucoup moins sont utilisées et surtout perceptibles par l'humain. Réduire le nombre de couleur ou réaliser une \"_quantification de couleurs_\" est une tâche fréquente et c'est une fonctionnalité classique des outils éditeurs d'images (Photoshop, Gimp, etc.) implémentée aussi dans le module Pillow de Python. A noter que cette réduction s'effectue avec perte de couleurs et doit être réalisée avec les bons paramètres (nombre et choix des couleurs) ce qui est votre objectif. \n",
    "\n",
    "La figure ci-dessous illustre le problème à résoudre : étant donnée une image en entrée, proposer une liste de couleurs (que l'on appellera la palette), afin de re-colorier une image en sortie.\n",
    "\n",
    "<div style=\"text-align:center;\">\n",
    "<table>\n",
    "  <tr>\n",
    "    <td>\n",
    "      <img src=\"figures/color-rainbow.png\" alt=\"Image originale\" style=\"height:5cm;\">\n",
    "      <p>Image originale</p>\n",
    "    </td>\n",
    "    <td>\n",
    "      <img src=\"figures/rainbow-palette-8.png\" alt=\"Palette de 8 couleurs représentatives\" style=\"height:5cm;\">\n",
    "      <p>Palette de 8 couleurs représentatives</p>\n",
    "    </td>\n",
    "    <td>\n",
    "      <img src=\"figures/rainbow-recoloriee.png\" alt=\"Image originale recoloriée avec la palette\" style=\"height:5cm;\">\n",
    "      <p>Image originale recoloriée avec la palette</p>\n",
    "    </td>\n",
    "  </tr>\n",
    "</table>\n",
    "</div>\n"
   ]
  },
  {
   "cell_type": "markdown",
   "id": "fd464e65-adfe-4e11-bf87-f12c513fbaea",
   "metadata": {},
   "source": [
    "## Étapes de travail\n",
    "\n",
    "Voici des étapes de travail suggérées :\n",
    "\n",
    "1. Prendre en main une image de votre choix (pas trop grande) en la chargeant avec PIL. Lister les couleurs présentes, identifier celles qui sont uniques et leur fréquence. Vous pouvez pour cela utiliser [Matplotlib](https://matplotlib.org/stable/gallery/index.html).\n",
    "\n",
    "2. Proposer une méthode (naïve pour commencer) de choix d'une palette de $k$ couleurs. Affichez là sous forme d'image (exemple de d'image au milieu de la figure du dessus) avec une nouvelle image PIL. Utilisez également des images simples où le résultat attendu est connu comme mour les images ci-dessous :\n",
    "\n",
    "  <div style=\"text-align:center;\">\n",
    "    <table>\n",
    "      <tr>\n",
    "        <td>\n",
    "          <img src=\"figures/1-color-back.png\" alt=\"1 couleur noir\" style=\"width:3cm;\">\n",
    "          <p>1 couleur noir</p>\n",
    "        </td>\n",
    "        <td>\n",
    "          <img src=\"figures/4-color.png\" alt=\"4 couleurs\" style=\"width:3cm;\">\n",
    "          <p>4 couleurs</p>\n",
    "        </td>\n",
    "      </tr>\n",
    "    </table>\n",
    "  </div>\n",
    " \n",
    "3. Re-colorier une image avec une palette de $k$ couleurs, et afficher le résultat sous forme d'image PIL. Pour re-colorier chaque pixel, prendre la couleur la plus proche dans la palette en utilisant une fonction de distance (Euclidienne par exemple).\n",
    "\n",
    "4. Proposer une méthode de validation de votre approche. Par exemple afficher la différence entre l'image originale et celle re-coloriée. Calculer un score global d'erreur.\n",
    "\n",
    "5. Améliorer le choix des $k$ couleurs afin de minimiser l'erreur entre l'image originale et re-coloriée. Une piste possible est de trier les couleurs dans une liste, diviser cette liste en $k$ intervals de couleurs et prendre la couleur du milieu de chaque interval. D'autres méthodes plus avancées peuvent être explorées !\n",
    "\n",
    "6. Tester sur plusieurs images de votre choix ou générées automatiquement avec un nombre et une distribution connue de couleurs. Comparer les performances de vos techniques avec d'autres méthodes (cette fois vous pouvez utiliser un éditeur de texte ou la fonction _quantize_ de PIL [(doc)](https://pillow.readthedocs.io/en/stable/reference/Image.html).\n",
    "\n",
    "7. Utiliser un pré-traitement des images (flou gaussien, etc) afin de lisser les couleurs est une piste afin de choisir de meilleurs couleurs représentatives. Proposez une quantification de cette amélioration (ou de déterioration éventuelle).\n",
    "\n",
    "7. Proposer une méthode d'amélioration de calcul de la distance entre deux couleurs, vous pouvez vous baser sur d'autres espaces de couleur [(doc)](https://fr.wikipedia.org/wiki/Espace_de_couleur). Cette partie est difficile, les espaces de couleurs possibles sont complexes à comprendre.\n",
    "\n",
    "8. Optimiser les étapes précédentes (complexité, espace nécessaire, structures de données, etc.).\n",
    "\n",
    "\n",
    "### Bonus\n",
    "\n",
    "10. Créer une palette représentative à partir de plusieurs images."
   ]
  }
 ],
 "metadata": {
  "kernelspec": {
   "display_name": "Python 3 (ipykernel)",
   "language": "python",
   "name": "python3"
  },
  "language_info": {
   "codemirror_mode": {
    "name": "ipython",
    "version": 3
   },
   "file_extension": ".py",
   "mimetype": "text/x-python",
   "name": "python",
   "nbconvert_exporter": "python",
   "pygments_lexer": "ipython3",
   "version": "3.10.9"
  }
 },
 "nbformat": 4,
 "nbformat_minor": 5
}
